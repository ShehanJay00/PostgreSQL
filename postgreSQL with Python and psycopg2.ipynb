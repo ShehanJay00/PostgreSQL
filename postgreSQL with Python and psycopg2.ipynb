{
 "cells": [
  {
   "cell_type": "code",
   "execution_count": 2,
   "id": "a153508f",
   "metadata": {},
   "outputs": [
    {
     "name": "stdout",
     "output_type": "stream",
     "text": [
      "Collecting psycopg2\n",
      "  Downloading psycopg2-2.9.9.tar.gz (384 kB)\n",
      "\u001b[2K     \u001b[90m━━━━━━━━━━━━━━━━━━━━━━━━━━━━━━━━━━━━━\u001b[0m \u001b[32m384.9/384.9 kB\u001b[0m \u001b[31m811.1 kB/s\u001b[0m eta \u001b[36m0:00:00\u001b[0ma \u001b[36m0:00:01\u001b[0m\n",
      "\u001b[?25h  Preparing metadata (setup.py) ... \u001b[?25ldone\n",
      "\u001b[?25hBuilding wheels for collected packages: psycopg2\n",
      "  Building wheel for psycopg2 (setup.py) ... \u001b[?25ldone\n",
      "\u001b[?25h  Created wheel for psycopg2: filename=psycopg2-2.9.9-cp311-cp311-macosx_11_0_arm64.whl size=132032 sha256=7073ca59e892327171a1ffbffeb92c14116e9226b79a5f7a4c92c614a2ecd847\n",
      "  Stored in directory: /Users/apple/Library/Caches/pip/wheels/ab/34/b9/78ebef1b3220b4840ee482461e738566c3c9165d2b5c914f51\n",
      "Successfully built psycopg2\n",
      "Installing collected packages: psycopg2\n",
      "Successfully installed psycopg2-2.9.9\n",
      "Note: you may need to restart the kernel to use updated packages.\n"
     ]
    }
   ],
   "source": [
    "pip install psycopg2"
   ]
  },
  {
   "cell_type": "code",
   "execution_count": 8,
   "id": "440ea32c",
   "metadata": {},
   "outputs": [],
   "source": [
    "import psycopg2 as pg2"
   ]
  },
  {
   "cell_type": "code",
   "execution_count": 9,
   "id": "46be3dea",
   "metadata": {},
   "outputs": [],
   "source": [
    "conn = pg2.connect(database = 'dvdrental' , user = 'postgres' , password = 'password')"
   ]
  },
  {
   "cell_type": "code",
   "execution_count": 10,
   "id": "9bbe1114",
   "metadata": {},
   "outputs": [],
   "source": [
    "cur = conn.cursor()\n",
    "# cursor for execute commands"
   ]
  },
  {
   "cell_type": "code",
   "execution_count": 11,
   "id": "50058339",
   "metadata": {},
   "outputs": [],
   "source": [
    "cur.execute('SELECT * FROM payment')"
   ]
  },
  {
   "cell_type": "code",
   "execution_count": 15,
   "id": "dbb0d078",
   "metadata": {},
   "outputs": [
    {
     "data": {
      "text/plain": [
       "[(17504,\n",
       "  341,\n",
       "  1,\n",
       "  1778,\n",
       "  Decimal('1.99'),\n",
       "  datetime.datetime(2007, 2, 16, 17, 23, 14, 996577)),\n",
       " (17505,\n",
       "  341,\n",
       "  1,\n",
       "  1849,\n",
       "  Decimal('7.99'),\n",
       "  datetime.datetime(2007, 2, 16, 22, 41, 45, 996577)),\n",
       " (17506,\n",
       "  341,\n",
       "  2,\n",
       "  2829,\n",
       "  Decimal('2.99'),\n",
       "  datetime.datetime(2007, 2, 19, 19, 39, 56, 996577)),\n",
       " (17507,\n",
       "  341,\n",
       "  2,\n",
       "  3130,\n",
       "  Decimal('7.99'),\n",
       "  datetime.datetime(2007, 2, 20, 17, 31, 48, 996577)),\n",
       " (17508,\n",
       "  341,\n",
       "  1,\n",
       "  3382,\n",
       "  Decimal('5.99'),\n",
       "  datetime.datetime(2007, 2, 21, 12, 33, 49, 996577)),\n",
       " (17509,\n",
       "  342,\n",
       "  2,\n",
       "  2190,\n",
       "  Decimal('5.99'),\n",
       "  datetime.datetime(2007, 2, 17, 23, 58, 17, 996577)),\n",
       " (17510,\n",
       "  342,\n",
       "  1,\n",
       "  2914,\n",
       "  Decimal('5.99'),\n",
       "  datetime.datetime(2007, 2, 20, 2, 11, 44, 996577)),\n",
       " (17511,\n",
       "  342,\n",
       "  1,\n",
       "  3081,\n",
       "  Decimal('2.99'),\n",
       "  datetime.datetime(2007, 2, 20, 13, 57, 39, 996577)),\n",
       " (17512,\n",
       "  343,\n",
       "  2,\n",
       "  1547,\n",
       "  Decimal('4.99'),\n",
       "  datetime.datetime(2007, 2, 16, 0, 10, 50, 996577)),\n",
       " (17513,\n",
       "  343,\n",
       "  1,\n",
       "  1564,\n",
       "  Decimal('6.99'),\n",
       "  datetime.datetime(2007, 2, 16, 1, 15, 33, 996577))]"
      ]
     },
     "execution_count": 15,
     "metadata": {},
     "output_type": "execute_result"
    }
   ],
   "source": [
    "cur.fetchmany(10)"
   ]
  },
  {
   "cell_type": "code",
   "execution_count": 16,
   "id": "910bc46c",
   "metadata": {},
   "outputs": [],
   "source": [
    "conn.close()"
   ]
  },
  {
   "cell_type": "code",
   "execution_count": null,
   "id": "bd3b8d44",
   "metadata": {},
   "outputs": [],
   "source": [
    "add = 'DROP TABLE'\n",
    "command = 'SELECT FROM' + add\n",
    "cur.execute(command)"
   ]
  }
 ],
 "metadata": {
  "kernelspec": {
   "display_name": "Python 3 (ipykernel)",
   "language": "python",
   "name": "python3"
  },
  "language_info": {
   "codemirror_mode": {
    "name": "ipython",
    "version": 3
   },
   "file_extension": ".py",
   "mimetype": "text/x-python",
   "name": "python",
   "nbconvert_exporter": "python",
   "pygments_lexer": "ipython3",
   "version": "3.11.5"
  }
 },
 "nbformat": 4,
 "nbformat_minor": 5
}
